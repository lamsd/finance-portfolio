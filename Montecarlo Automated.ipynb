{
 "cells": [
  {
   "cell_type": "markdown",
   "metadata": {},
   "source": [
    "___\n",
    "\n",
    "<a href='https://github.com/eliasmelul/'> <img src='https://s3.us-east-2.amazonaws.com/wordontheamazon.com/NoMargin_NewLogo.png' style='width: 15em;' align='right' /></a>\n",
    "# Finance with Python\n",
    "### Monte Carlo Simulations for Stock Price Predictions\n",
    "___\n",
    "<h4 align=\"right\">by Elias Melul, Data Scientist </h4> \n",
    "\n",
    "___\n",
    "\n",
    "\n",
    "\n",
    "In this notebook, we introduce how to use Monte Carlo simulations for forecasting future stock prices.\n",
    "\n",
    "$$\n",
    "{Price Today}={Price Yesterday * e^r}\n",
    "$$\n",
    "\n",
    "* We know yesterday's price. \n",
    "\n",
    "* We want to predict today's price. \n",
    "\n",
    "* What we do not know is the rate of return, r, of the share price between yesterday and today. \n",
    "\n",
    "This is where the Monte Carlo simulation comes in! But first, how do we compute the return?\n",
    "\n",
    "### Brownian Motion\n",
    "\n",
    "Brownian motion will be the main driver for estimating the return. It is a stochastic process used for modeling random behavior over time. For simplicity, we will use regular brownian motion, instead of the Geometric Brownian Motion, which is more common and less questionable in stock pricing applications.\n",
    "\n",
    "**Brownian Motion** has two main main components:\n",
    "1. Drift - the direction that rates of returns have had in the past. That is, the expected return of the stock.\n",
    "$$\n",
    "{Drift} = ({mean} - \\frac{1}{2} {Var})\n",
    "$$\n",
    "\n",
    "    Why do we multiply the variance by 0.5? Because historical values are eroded in the future.\n",
    "    \n",
    "\n",
    "2. Volatility -  random variable. This is the historical volatility multiplied by a random, standard normally distributed variable.\n",
    "\n",
    "$$\n",
    "{Volatility} = {Std.Dev. * Z([Rand(0;1)])}\n",
    "$$\n",
    "\n",
    "Therefore, our asset pricing equation ends up looking like this:\n",
    "\n",
    "$$\n",
    "{Price Today}={Price Yesterday * e^{mean-\\frac{1}{2}{Var} + Std.Dev * Z([Rand(0;1)])}}\n",
    "$$\n",
    "\n",
    "\n",
    "\n",
    "This technique will be used for every day into the future you want to predict, and for however many trials the monte carlo simulation will run!\n",
    "\n",
    "---\n",
    "\n",
    "First, import required libraries."
   ]
  },
  {
   "cell_type": "code",
   "execution_count": 1,
   "metadata": {},
   "outputs": [],
   "source": [
    "import numpy as np\n",
    "import pandas as pd\n",
    "from pandas_datareader import data as pdr\n",
    "import matplotlib.pyplot as plt\n",
    "from scipy.stats import norm, gmean, cauchy\n",
    "import seaborn as sns\n",
    "from datetime import datetime\n",
    "\n",
    "import yfinance as yfin\n",
    "\n",
    "\n",
    "yfin.pdr_override()\n",
    "%matplotlib inline"
   ]
  },
  {
   "cell_type": "markdown",
   "metadata": {},
   "source": [
    "Import data for one or multiple stocks from a specified date until the last available data. Data source: yahoo finance.\n",
    "\n",
    "For this, it's better if we define a function that imports stock(s) daily data for any publicly traded company as defined by the user starting at a user-defined date until today. We will use the Adjusted Close price."
   ]
  },
  {
   "cell_type": "code",
   "execution_count": 2,
   "metadata": {},
   "outputs": [],
   "source": [
    "def import_stock_data(tickers, start = '2010-1-1'):\n",
    "    data = pd.DataFrame()\n",
    "    if len(tickers) == 1:\n",
    "        data[tickers[0]] = pdr.get_data_yahoo(tickers[0], start = start)['Adj Close']\n",
    "        data = pd.DataFrame(data)\n",
    "    else:\n",
    "        for t in tickers:\n",
    "            data[t] = pdr.get_data_yahoo(t, start = start)['Adj Close']\n",
    "    return(data)"
   ]
  },
  {
   "cell_type": "code",
   "execution_count": 3,
   "metadata": {},
   "outputs": [
    {
     "name": "stdout",
     "output_type": "stream",
     "text": [
      "[*********************100%***********************]  1 of 1 completed\n"
     ]
    }
   ],
   "source": [
    "data = import_stock_data(['GP'])"
   ]
  },
  {
   "cell_type": "markdown",
   "metadata": {},
   "source": [
    "Then, we compute the logarithmic returns of the data."
   ]
  },
  {
   "cell_type": "code",
   "execution_count": 4,
   "metadata": {},
   "outputs": [],
   "source": [
    "def log_returns(data):\n",
    "    return (np.log(1+data.pct_change()))"
   ]
  },
  {
   "cell_type": "code",
   "execution_count": 5,
   "metadata": {},
   "outputs": [],
   "source": [
    "log_return = log_returns(data)"
   ]
  },
  {
   "cell_type": "markdown",
   "metadata": {},
   "source": [
    "We also create a function to compute the simple returns."
   ]
  },
  {
   "cell_type": "code",
   "execution_count": 6,
   "metadata": {},
   "outputs": [],
   "source": [
    "def simple_returns(data):\n",
    "    return ((data/data.shift(1))-1)"
   ]
  },
  {
   "cell_type": "markdown",
   "metadata": {},
   "source": [
    "## CAPM and Sharpe\n",
    "\n",
    "Before we jump into Monte Carlo Simulations, we would like to report some statistics with it, including the Beta and Sharpe Ratio of the stock, compared to the _market portfolio_. To understand these metrics, we first must understand the underlying concepts of the _Capital Asset Pricing Model,_ starting with the _market portfolio_.\n",
    "\n",
    "* The market portfolio is the theoretical combination of all possible investments in the world. However, there is no such thing as a market portfolio. We approximate it with a stock market index. In our case, we use the S&P500, but you can specify any index you want to!\n",
    "\n",
    "* We also note that there is no such thing as a risk-free asset. We will use a 10-year US government bond yield of 2.5% instead.\n",
    "\n",
    "* The equity premium is the difference between the expected return of the market and the risk-free asset. This value is typically between 4.5 and 5.5%. We can use 5%.\n",
    "\n",
    "We use the _market portfolio_ to compute the Beta, the CAPM expected return, and the Sharpe Ratio of a stock.\n",
    "1. **Beta**: measures the market risk that cannot be avoided through diversification. This is the relationship between the stock and the market portfolio. In other words, it is a measure of how much risk the investment will add to a portfolio that looks like the market.\n",
    "##### $$ \n",
    "\\beta_{i} = \\frac{\\sigma_{i,m}}{\\sigma_{m}^2}\n",
    "$$\n",
    "\n",
    "        When beta = 0, it means that there's no relationship.\n",
    "    \n",
    "        When beta < 1, it means that the stock is defensive (less prone to high highs and low lows)\n",
    "    \n",
    "        When beta > 1, it means that the stock is aggresive (more prone to high highs and low lows)\n",
    "    \n",
    "    \n",
    "2. **Expected Return CAPM**: calculates the expected return of a security adjusted to the risk taken. This equates to the return expected from taking the extra risk of purchasing this security.\n",
    "##### $$\n",
    "\\overline{r_{i}} = r_f + \\beta_{i}(\\overline{r_{m}} - r_f) \n",
    "$$\n",
    "\n",
    "3. **Sharpe Ratio**: measures the performance of a security compared to a risk-free asset, after adjusting for its risk. This is the excess return per unit of risk of an investment.\n",
    "##### $$\n",
    "Sharpe = \\frac{\\overline{r_{i}} - r_f}{\\sigma_{i}}\n",
    "$$\n",
    "        When Sharpe > 1, GOOD risk-adjusted returns\n",
    "    \n",
    "        When Sharpe > 2, VERY GOOD risk-adjusted returns\n",
    "    \n",
    "        When Sharpe > 3, EXCELLENT risk-adjusted returns\n",
    "    "
   ]
  },
  {
   "cell_type": "code",
   "execution_count": 7,
   "metadata": {},
   "outputs": [],
   "source": [
    "def market_data_combination(data, mark_ticker = \"^GSPC\", start='2010-1-1'):\n",
    "    market_data = import_stock_data(mark_ticker, start)\n",
    "    market_rets = log_returns(market_data).dropna()\n",
    "    ann_return = np.exp(market_rets.mean()*252).values-1\n",
    "    data = data.merge(market_data, left_index=True, right_index=True)\n",
    "    return data, ann_return"
   ]
  },
  {
   "cell_type": "code",
   "execution_count": 8,
   "metadata": {},
   "outputs": [],
   "source": [
    "def beta_sharpe(data, mark_ticker = \"^GSPC\", start='2010-1-1', riskfree = 0.025):\n",
    "    \n",
    "    \"\"\"\n",
    "    Input: \n",
    "    1. data: dataframe of stock price data\n",
    "    2. mark_ticker: ticker of the market data you want to compute CAPM metrics with (default is ^GSPC)\n",
    "    3. start: data from which to download data (default Jan 1st 2010)\n",
    "    4. riskfree: the assumed risk free yield (US 10 Year Bond is assumed: 2.5%)\n",
    "    \n",
    "    Output:\n",
    "    1. Dataframe with CAPM metrics computed against specified market procy\n",
    "    \"\"\"\n",
    "    # Beta\n",
    "    dd, mark_ret = market_data_combination(data, [mark_ticker], start)\n",
    "    log_ret = log_returns(dd)\n",
    "    covar = log_ret.cov()*252\n",
    "    covar = pd.DataFrame(covar.iloc[:-1,-1])\n",
    "    mrk_var = log_ret.iloc[:,-1].var()*252\n",
    "    beta = covar/mrk_var\n",
    "    \n",
    "    stdev_ret = pd.DataFrame(((log_ret.std()*250**0.5)[:-1]), columns=['STD'])\n",
    "    beta = beta.merge(stdev_ret, left_index=True, right_index=True)\n",
    "    \n",
    "    # CAPM\n",
    "    for i, row in beta.iterrows():\n",
    "        beta.at[i,'CAPM'] = riskfree + (row[mark_ticker] * (mark_ret-riskfree))\n",
    "    # Sharpe\n",
    "    for i, row in beta.iterrows():\n",
    "        beta.at[i,'Sharpe'] = ((row['CAPM']-riskfree)/(row['STD']))\n",
    "    beta.rename(columns={\"^GSPC\":\"Beta\"}, inplace=True)\n",
    "    \n",
    "    return beta"
   ]
  },
  {
   "cell_type": "code",
   "execution_count": 9,
   "metadata": {},
   "outputs": [
    {
     "name": "stdout",
     "output_type": "stream",
     "text": [
      "[*********************100%***********************]  1 of 1 completed\n"
     ]
    },
    {
     "data": {
      "text/html": [
       "<div>\n",
       "<style scoped>\n",
       "    .dataframe tbody tr th:only-of-type {\n",
       "        vertical-align: middle;\n",
       "    }\n",
       "\n",
       "    .dataframe tbody tr th {\n",
       "        vertical-align: top;\n",
       "    }\n",
       "\n",
       "    .dataframe thead th {\n",
       "        text-align: right;\n",
       "    }\n",
       "</style>\n",
       "<table border=\"1\" class=\"dataframe\">\n",
       "  <thead>\n",
       "    <tr style=\"text-align: right;\">\n",
       "      <th></th>\n",
       "      <th>Beta</th>\n",
       "      <th>STD</th>\n",
       "      <th>CAPM</th>\n",
       "      <th>Sharpe</th>\n",
       "    </tr>\n",
       "  </thead>\n",
       "  <tbody>\n",
       "    <tr>\n",
       "      <th>GP</th>\n",
       "      <td>1.81421</td>\n",
       "      <td>0.911834</td>\n",
       "      <td>0.168749</td>\n",
       "      <td>0.157649</td>\n",
       "    </tr>\n",
       "  </tbody>\n",
       "</table>\n",
       "</div>"
      ],
      "text/plain": [
       "       Beta       STD      CAPM    Sharpe\n",
       "GP  1.81421  0.911834  0.168749  0.157649"
      ]
     },
     "execution_count": 9,
     "metadata": {},
     "output_type": "execute_result"
    }
   ],
   "source": [
    "beta_sharpe(data)"
   ]
  },
  {
   "cell_type": "markdown",
   "metadata": {},
   "source": [
    "**Brownian Motion**\n",
    "\n",
    "Now that we have our returns, we can compute the brownian motion, as explained in the introduction.\n",
    "1. Calculate the drift\n",
    "2. Calculate the variance\n",
    "3. Calculate the daily returns based on the drift and variance"
   ]
  },
  {
   "cell_type": "code",
   "execution_count": 10,
   "metadata": {},
   "outputs": [],
   "source": [
    "def drift_calc(data, return_type='log'):\n",
    "    if return_type=='log':\n",
    "        lr = log_returns(data)\n",
    "    elif return_type=='simple':\n",
    "        lr = simple_returns(data)\n",
    "    u = lr.mean()\n",
    "    var = lr.var()\n",
    "    drift = u-(0.5*var)\n",
    "    try:\n",
    "        return drift.values\n",
    "    except:\n",
    "        return drift"
   ]
  },
  {
   "cell_type": "code",
   "execution_count": 11,
   "metadata": {},
   "outputs": [
    {
     "data": {
      "text/plain": [
       "array([-0.0047295])"
      ]
     },
     "execution_count": 11,
     "metadata": {},
     "output_type": "execute_result"
    }
   ],
   "source": [
    "drift_calc(data)"
   ]
  },
  {
   "cell_type": "markdown",
   "metadata": {},
   "source": [
    "We calculated the drift above, but now, we must calculate the daily returns for the data. There are things to consider:\n",
    "1. How many days into the future will we predict? (How many rows)\n",
    "2. How many iterations of these predictions will we compute? (How many columns)\n",
    "\n",
    "This generates the daily returns (not prices!) for each day into the future for each iteration (simulation) based on a normal distribution."
   ]
  },
  {
   "cell_type": "code",
   "execution_count": 12,
   "metadata": {},
   "outputs": [],
   "source": [
    "def daily_returns(data, days, iterations, return_type='log'):\n",
    "    ft = drift_calc(data, return_type)\n",
    "    if return_type == 'log':\n",
    "        try:\n",
    "            stv = log_returns(data).std().values\n",
    "        except:\n",
    "            stv = log_returns(data).std()\n",
    "    elif return_type=='simple':\n",
    "        try:\n",
    "            stv = simple_returns(data).std().values\n",
    "        except:\n",
    "            stv = simple_returns(data).std()    \n",
    "    #Oftentimes, we find that the distribution of returns is a variation of the normal distribution where it has a fat tail\n",
    "    # This distribution is called cauchy distribution\n",
    "    dr = np.exp(ft + stv * norm.ppf(np.random.rand(days, iterations)))\n",
    "    return dr"
   ]
  },
  {
   "cell_type": "code",
   "execution_count": 13,
   "metadata": {},
   "outputs": [],
   "source": [
    "dr = daily_returns(data, 2, 3)"
   ]
  },
  {
   "cell_type": "markdown",
   "metadata": {},
   "source": [
    "**Note**: This next function is used to calculate the probability of a stock having a higher price or higher returns than specified over the period defined. "
   ]
  },
  {
   "cell_type": "code",
   "execution_count": 14,
   "metadata": {},
   "outputs": [],
   "source": [
    "def probs_find(predicted, higherthan, on = 'value'):\n",
    "    \"\"\"\n",
    "    This function calculated the probability of a stock being above a certain threshhold, which can be defined as a value (final stock price) or return rate (percentage change)\n",
    "    Input: \n",
    "    1. predicted: dataframe with all the predicted prices (days and simulations)\n",
    "    2. higherthan: specified threshhold to which compute the probability (ex. 0 on return will compute the probability of at least breakeven)\n",
    "    3. on: 'return' or 'value', the return of the stock or the final value of stock for every simulation over the time specified\n",
    "    \"\"\"\n",
    "    if on == 'return':\n",
    "        predicted0 = predicted.iloc[0,0]\n",
    "        predicted = predicted.iloc[-1]\n",
    "        predList = list(predicted)\n",
    "        over = [(i*100)/predicted0 for i in predList if ((i-predicted0)*100)/predicted0 >= higherthan]\n",
    "        less = [(i*100)/predicted0 for i in predList if ((i-predicted0)*100)/predicted0 < higherthan]\n",
    "    elif on == 'value':\n",
    "        predicted = predicted.iloc[-1]\n",
    "        predList = list(predicted)\n",
    "        over = [i for i in predList if i >= higherthan]\n",
    "        less = [i for i in predList if i < higherthan]\n",
    "    else:\n",
    "        print(\"'on' must be either value or return\")\n",
    "    return (len(over)/(len(over)+len(less)))"
   ]
  },
  {
   "cell_type": "markdown",
   "metadata": {},
   "source": [
    "Example: We would like to find out the probability that our investment in PG will breakeven or make a profit over the course of a year (financial year is about 252 days). There are two ways we can do this:\n",
    "1. Returns = 0\n",
    "2. Final stock price = initial stock price ($44.05 - Jan 1st 2010, the first data point)\n",
    "\n",
    "So, with the simulation predicted values, we will predict said probabilities.\n",
    "\n",
    "---\n",
    "\n",
    "First, however, we must run the simulation! How does it work?\n",
    "\n",
    "1. Calculate the daily returns for every day and every iteration (simulation) of the data. \n",
    "2. Creates an equally large matrix of size [days x iteration] full of zeroes.\n",
    "3. Input the last stock price value in the first row (day 0) of the \"empty\" matrix (part 2). This is our starting point.\n",
    "4. Calculate \"today's price\" based on yesterday's multiplied by the daily return generated. That is, multiply the daily return generated for every simulation with the stock price calculated for the previous day (the previous row) for every simulation.\n",
    "\n",
    "Does that sounds familiar? The fourth step multiplies the daily returns with the price of the stock of the previous day!"
   ]
  },
  {
   "cell_type": "code",
   "execution_count": 15,
   "metadata": {},
   "outputs": [],
   "source": [
    "def simulate_mc(data, days, iterations, return_type='log', plot=True):\n",
    "    # Generate daily returns\n",
    "    returns = daily_returns(data, days, iterations, return_type)\n",
    "    # Create empty matrix\n",
    "    price_list = np.zeros_like(returns)\n",
    "    # Put the last actual price in the first row of matrix. \n",
    "    price_list[0] = data.iloc[-1]\n",
    "    # Calculate the price of each day\n",
    "    for t in range(1,days):\n",
    "        price_list[t] = price_list[t-1]*returns[t]\n",
    "    \n",
    "    # Plot Option\n",
    "    if plot == True:\n",
    "        x = pd.DataFrame(price_list).iloc[-1]\n",
    "        fig, ax = plt.subplots(1,2, figsize=(14,4))\n",
    "        sns.distplot(x, ax=ax[0])\n",
    "        sns.distplot(x, hist_kws={'cumulative':True},kde_kws={'cumulative':True},ax=ax[1])\n",
    "        plt.xlabel(\"Stock Price\")\n",
    "        plt.show()\n",
    "    \n",
    "    #CAPM and Sharpe Ratio\n",
    "    \n",
    "    # Printing information about stock\n",
    "    try:\n",
    "        [print(nam) for nam in data.columns]\n",
    "    except:\n",
    "        print(data.name)\n",
    "    print(f\"Days: {days-1}\")\n",
    "    print(f\"Expected Value: ${round(pd.DataFrame(price_list).iloc[-1].mean(),2)}\")\n",
    "    print(f\"Return: {round(100*(pd.DataFrame(price_list).iloc[-1].mean()-price_list[0,1])/pd.DataFrame(price_list).iloc[-1].mean(),2)}%\")\n",
    "    print(f\"Probability of Breakeven: {probs_find(pd.DataFrame(price_list),0, on='return')}\")\n",
    "   \n",
    "          \n",
    "    return pd.DataFrame(price_list)"
   ]
  },
  {
   "cell_type": "code",
   "execution_count": 16,
   "metadata": {},
   "outputs": [
    {
     "name": "stderr",
     "output_type": "stream",
     "text": [
      "C:\\Users\\LAMSD\\my_app\\lib\\site-packages\\seaborn\\distributions.py:2619: FutureWarning: `distplot` is a deprecated function and will be removed in a future version. Please adapt your code to use either `displot` (a figure-level function with similar flexibility) or `histplot` (an axes-level function for histograms).\n",
      "  warnings.warn(msg, FutureWarning)\n",
      "C:\\Users\\LAMSD\\my_app\\lib\\site-packages\\seaborn\\distributions.py:2619: FutureWarning: `distplot` is a deprecated function and will be removed in a future version. Please adapt your code to use either `displot` (a figure-level function with similar flexibility) or `histplot` (an axes-level function for histograms).\n",
      "  warnings.warn(msg, FutureWarning)\n"
     ]
    },
    {
     "data": {
      "image/png": "[encoded data removed]",
      "text/plain": [
       "<Figure size 1008x288 with 2 Axes>"
      ]
     },
     "metadata": {
      "needs_background": "light"
     },
     "output_type": "display_data"
    },
    {
     "name": "stdout",
     "output_type": "stream",
     "text": [
      "GP\n",
      "Days: 251\n",
      "Expected Value: $1.15\n",
      "Return: -116.93%\n",
      "Probability of Breakeven: 0.098\n"
     ]
    },
    {
     "data": {
      "text/html": [
       "<div>\n",
       "<style scoped>\n",
       "    .dataframe tbody tr th:only-of-type {\n",
       "        vertical-align: middle;\n",
       "    }\n",
       "\n",
       "    .dataframe tbody tr th {\n",
       "        vertical-align: top;\n",
       "    }\n",
       "\n",
       "    .dataframe thead th {\n",
       "        text-align: right;\n",
       "    }\n",
       "</style>\n",
       "<table border=\"1\" class=\"dataframe\">\n",
       "  <thead>\n",
       "    <tr style=\"text-align: right;\">\n",
       "      <th></th>\n",
       "      <th>0</th>\n",
       "      <th>1</th>\n",
       "      <th>2</th>\n",
       "      <th>3</th>\n",
       "      <th>4</th>\n",
       "      <th>5</th>\n",
       "      <th>6</th>\n",
       "      <th>7</th>\n",
       "      <th>8</th>\n",
       "      <th>9</th>\n",
       "      <th>...</th>\n",
       "      <th>990</th>\n",
       "      <th>991</th>\n",
       "      <th>992</th>\n",
       "      <th>993</th>\n",
       "      <th>994</th>\n",
       "      <th>995</th>\n",
       "      <th>996</th>\n",
       "      <th>997</th>\n",
       "      <th>998</th>\n",
       "      <th>999</th>\n",
       "    </tr>\n",
       "  </thead>\n",
       "  <tbody>\n",
       "    <tr>\n",
       "      <th>0</th>\n",
       "      <td>2.500000</td>\n",
       "      <td>2.500000</td>\n",
       "      <td>2.500000</td>\n",
       "      <td>2.500000</td>\n",
       "      <td>2.500000</td>\n",
       "      <td>2.500000</td>\n",
       "      <td>2.500000</td>\n",
       "      <td>2.500000</td>\n",
       "      <td>2.500000</td>\n",
       "      <td>2.500000</td>\n",
       "      <td>...</td>\n",
       "      <td>2.500000</td>\n",
       "      <td>2.500000</td>\n",
       "      <td>2.500000</td>\n",
       "      <td>2.500000</td>\n",
       "      <td>2.500000</td>\n",
       "      <td>2.500000</td>\n",
       "      <td>2.500000</td>\n",
       "      <td>2.500000</td>\n",
       "      <td>2.500000</td>\n",
       "      <td>2.500000</td>\n",
       "    </tr>\n",
       "    <tr>\n",
       "      <th>1</th>\n",
       "      <td>2.401033</td>\n",
       "      <td>2.320393</td>\n",
       "      <td>2.498775</td>\n",
       "      <td>2.351288</td>\n",
       "      <td>2.225779</td>\n",
       "      <td>2.371089</td>\n",
       "      <td>2.411807</td>\n",
       "      <td>2.496211</td>\n",
       "      <td>2.713973</td>\n",
       "      <td>2.656056</td>\n",
       "      <td>...</td>\n",
       "      <td>2.441634</td>\n",
       "      <td>2.227595</td>\n",
       "      <td>2.550045</td>\n",
       "      <td>2.322357</td>\n",
       "      <td>2.521691</td>\n",
       "      <td>2.378154</td>\n",
       "      <td>2.377783</td>\n",
       "      <td>2.501814</td>\n",
       "      <td>2.604427</td>\n",
       "      <td>2.423780</td>\n",
       "    </tr>\n",
       "    <tr>\n",
       "      <th>2</th>\n",
       "      <td>2.539585</td>\n",
       "      <td>2.087644</td>\n",
       "      <td>2.398378</td>\n",
       "      <td>2.419790</td>\n",
       "      <td>2.107504</td>\n",
       "      <td>2.559038</td>\n",
       "      <td>2.372776</td>\n",
       "      <td>2.386220</td>\n",
       "      <td>2.838183</td>\n",
       "      <td>2.606229</td>\n",
       "      <td>...</td>\n",
       "      <td>2.251663</td>\n",
       "      <td>2.468662</td>\n",
       "      <td>2.272174</td>\n",
       "      <td>2.208626</td>\n",
       "      <td>2.820793</td>\n",
       "      <td>2.356459</td>\n",
       "      <td>2.324574</td>\n",
       "      <td>2.483371</td>\n",
       "      <td>2.373569</td>\n",
       "      <td>2.222761</td>\n",
       "    </tr>\n",
       "    <tr>\n",
       "      <th>3</th>\n",
       "      <td>2.723275</td>\n",
       "      <td>2.029546</td>\n",
       "      <td>2.462136</td>\n",
       "      <td>2.547188</td>\n",
       "      <td>2.090447</td>\n",
       "      <td>2.495212</td>\n",
       "      <td>2.213276</td>\n",
       "      <td>2.591399</td>\n",
       "      <td>2.824479</td>\n",
       "      <td>2.624739</td>\n",
       "      <td>...</td>\n",
       "      <td>2.171767</td>\n",
       "      <td>2.331891</td>\n",
       "      <td>2.244966</td>\n",
       "      <td>2.352782</td>\n",
       "      <td>2.650657</td>\n",
       "      <td>2.374485</td>\n",
       "      <td>2.181342</td>\n",
       "      <td>2.781412</td>\n",
       "      <td>2.269199</td>\n",
       "      <td>2.267335</td>\n",
       "    </tr>\n",
       "    <tr>\n",
       "      <th>4</th>\n",
       "      <td>2.575837</td>\n",
       "      <td>1.965991</td>\n",
       "      <td>2.382956</td>\n",
       "      <td>2.806291</td>\n",
       "      <td>2.221017</td>\n",
       "      <td>2.706787</td>\n",
       "      <td>2.137256</td>\n",
       "      <td>2.231662</td>\n",
       "      <td>2.847680</td>\n",
       "      <td>2.976819</td>\n",
       "      <td>...</td>\n",
       "      <td>2.141261</td>\n",
       "      <td>2.471066</td>\n",
       "      <td>2.112399</td>\n",
       "      <td>2.095766</td>\n",
       "      <td>2.903140</td>\n",
       "      <td>2.337033</td>\n",
       "      <td>2.178887</td>\n",
       "      <td>2.568547</td>\n",
       "      <td>2.130863</td>\n",
       "      <td>2.330550</td>\n",
       "    </tr>\n",
       "    <tr>\n",
       "      <th>...</th>\n",
       "      <td>...</td>\n",
       "      <td>...</td>\n",
       "      <td>...</td>\n",
       "      <td>...</td>\n",
       "      <td>...</td>\n",
       "      <td>...</td>\n",
       "      <td>...</td>\n",
       "      <td>...</td>\n",
       "      <td>...</td>\n",
       "      <td>...</td>\n",
       "      <td>...</td>\n",
       "      <td>...</td>\n",
       "      <td>...</td>\n",
       "      <td>...</td>\n",
       "      <td>...</td>\n",
       "      <td>...</td>\n",
       "      <td>...</td>\n",
       "      <td>...</td>\n",
       "      <td>...</td>\n",
       "      <td>...</td>\n",
       "      <td>...</td>\n",
       "    </tr>\n",
       "    <tr>\n",
       "      <th>247</th>\n",
       "      <td>5.815329</td>\n",
       "      <td>1.233043</td>\n",
       "      <td>0.232952</td>\n",
       "      <td>1.409834</td>\n",
       "      <td>1.907589</td>\n",
       "      <td>1.201638</td>\n",
       "      <td>1.275627</td>\n",
       "      <td>0.261699</td>\n",
       "      <td>5.788904</td>\n",
       "      <td>1.191388</td>\n",
       "      <td>...</td>\n",
       "      <td>0.837470</td>\n",
       "      <td>0.390658</td>\n",
       "      <td>1.187749</td>\n",
       "      <td>2.887199</td>\n",
       "      <td>3.790205</td>\n",
       "      <td>0.595590</td>\n",
       "      <td>0.291398</td>\n",
       "      <td>0.091381</td>\n",
       "      <td>0.213702</td>\n",
       "      <td>0.733134</td>\n",
       "    </tr>\n",
       "    <tr>\n",
       "      <th>248</th>\n",
       "      <td>5.509562</td>\n",
       "      <td>1.239778</td>\n",
       "      <td>0.230877</td>\n",
       "      <td>1.426878</td>\n",
       "      <td>2.057699</td>\n",
       "      <td>1.136133</td>\n",
       "      <td>1.375906</td>\n",
       "      <td>0.263800</td>\n",
       "      <td>6.158593</td>\n",
       "      <td>1.280967</td>\n",
       "      <td>...</td>\n",
       "      <td>0.796218</td>\n",
       "      <td>0.380957</td>\n",
       "      <td>1.090037</td>\n",
       "      <td>2.860023</td>\n",
       "      <td>3.701095</td>\n",
       "      <td>0.550884</td>\n",
       "      <td>0.282280</td>\n",
       "      <td>0.080528</td>\n",
       "      <td>0.214459</td>\n",
       "      <td>0.665671</td>\n",
       "    </tr>\n",
       "    <tr>\n",
       "      <th>249</th>\n",
       "      <td>5.332911</td>\n",
       "      <td>1.225400</td>\n",
       "      <td>0.231507</td>\n",
       "      <td>1.313846</td>\n",
       "      <td>2.128907</td>\n",
       "      <td>1.143283</td>\n",
       "      <td>1.438998</td>\n",
       "      <td>0.290478</td>\n",
       "      <td>6.497849</td>\n",
       "      <td>1.140849</td>\n",
       "      <td>...</td>\n",
       "      <td>0.803290</td>\n",
       "      <td>0.382092</td>\n",
       "      <td>0.951661</td>\n",
       "      <td>2.759643</td>\n",
       "      <td>3.634861</td>\n",
       "      <td>0.484875</td>\n",
       "      <td>0.270159</td>\n",
       "      <td>0.083673</td>\n",
       "      <td>0.219068</td>\n",
       "      <td>0.667120</td>\n",
       "    </tr>\n",
       "    <tr>\n",
       "      <th>250</th>\n",
       "      <td>5.373452</td>\n",
       "      <td>1.161398</td>\n",
       "      <td>0.200527</td>\n",
       "      <td>1.265819</td>\n",
       "      <td>2.088295</td>\n",
       "      <td>1.118228</td>\n",
       "      <td>1.389990</td>\n",
       "      <td>0.283331</td>\n",
       "      <td>6.012800</td>\n",
       "      <td>1.191367</td>\n",
       "      <td>...</td>\n",
       "      <td>0.821865</td>\n",
       "      <td>0.383895</td>\n",
       "      <td>0.910292</td>\n",
       "      <td>2.439413</td>\n",
       "      <td>3.577952</td>\n",
       "      <td>0.450375</td>\n",
       "      <td>0.249218</td>\n",
       "      <td>0.081401</td>\n",
       "      <td>0.216726</td>\n",
       "      <td>0.725479</td>\n",
       "    </tr>\n",
       "    <tr>\n",
       "      <th>251</th>\n",
       "      <td>5.695000</td>\n",
       "      <td>1.271879</td>\n",
       "      <td>0.204338</td>\n",
       "      <td>1.167682</td>\n",
       "      <td>2.256697</td>\n",
       "      <td>1.128326</td>\n",
       "      <td>1.463393</td>\n",
       "      <td>0.257026</td>\n",
       "      <td>5.977975</td>\n",
       "      <td>1.181181</td>\n",
       "      <td>...</td>\n",
       "      <td>0.877802</td>\n",
       "      <td>0.399100</td>\n",
       "      <td>0.936496</td>\n",
       "      <td>2.428065</td>\n",
       "      <td>3.617395</td>\n",
       "      <td>0.464452</td>\n",
       "      <td>0.251414</td>\n",
       "      <td>0.071827</td>\n",
       "      <td>0.217818</td>\n",
       "      <td>0.712988</td>\n",
       "    </tr>\n",
       "  </tbody>\n",
       "</table>\n",
       "<p>252 rows × 1000 columns</p>\n",
       "</div>"
      ],
      "text/plain": [
       "          0         1         2         3         4         5         6    \\\n",
       "0    2.500000  2.500000  2.500000  2.500000  2.500000  2.500000  2.500000   \n",
       "1    2.401033  2.320393  2.498775  2.351288  2.225779  2.371089  2.411807   \n",
       "2    2.539585  2.087644  2.398378  2.419790  2.107504  2.559038  2.372776   \n",
       "3    2.723275  2.029546  2.462136  2.547188  2.090447  2.495212  2.213276   \n",
       "4    2.575837  1.965991  2.382956  2.806291  2.221017  2.706787  2.137256   \n",
       "..        ...       ...       ...       ...       ...       ...       ...   \n",
       "247  5.815329  1.233043  0.232952  1.409834  1.907589  1.201638  1.275627   \n",
       "248  5.509562  1.239778  0.230877  1.426878  2.057699  1.136133  1.375906   \n",
       "249  5.332911  1.225400  0.231507  1.313846  2.128907  1.143283  1.438998   \n",
       "250  5.373452  1.161398  0.200527  1.265819  2.088295  1.118228  1.389990   \n",
       "251  5.695000  1.271879  0.204338  1.167682  2.256697  1.128326  1.463393   \n",
       "\n",
       "          7         8         9    ...       990       991       992  \\\n",
       "0    2.500000  2.500000  2.500000  ...  2.500000  2.500000  2.500000   \n",
       "1    2.496211  2.713973  2.656056  ...  2.441634  2.227595  2.550045   \n",
       "2    2.386220  2.838183  2.606229  ...  2.251663  2.468662  2.272174   \n",
       "3    2.591399  2.824479  2.624739  ...  2.171767  2.331891  2.244966   \n",
       "4    2.231662  2.847680  2.976819  ...  2.141261  2.471066  2.112399   \n",
       "..        ...       ...       ...  ...       ...       ...       ...   \n",
       "247  0.261699  5.788904  1.191388  ...  0.837470  0.390658  1.187749   \n",
       "248  0.263800  6.158593  1.280967  ...  0.796218  0.380957  1.090037   \n",
       "249  0.290478  6.497849  1.140849  ...  0.803290  0.382092  0.951661   \n",
       "250  0.283331  6.012800  1.191367  ...  0.821865  0.383895  0.910292   \n",
       "251  0.257026  5.977975  1.181181  ...  0.877802  0.399100  0.936496   \n",
       "\n",
       "          993       994       995       996       997       998       999  \n",
       "0    2.500000  2.500000  2.500000  2.500000  2.500000  2.500000  2.500000  \n",
       "1    2.322357  2.521691  2.378154  2.377783  2.501814  2.604427  2.423780  \n",
       "2    2.208626  2.820793  2.356459  2.324574  2.483371  2.373569  2.222761  \n",
       "3    2.352782  2.650657  2.374485  2.181342  2.781412  2.269199  2.267335  \n",
       "4    2.095766  2.903140  2.337033  2.178887  2.568547  2.130863  2.330550  \n",
       "..        ...       ...       ...       ...       ...       ...       ...  \n",
       "247  2.887199  3.790205  0.595590  0.291398  0.091381  0.213702  0.733134  \n",
       "248  2.860023  3.701095  0.550884  0.282280  0.080528  0.214459  0.665671  \n",
       "249  2.759643  3.634861  0.484875  0.270159  0.083673  0.219068  0.667120  \n",
       "250  2.439413  3.577952  0.450375  0.249218  0.081401  0.216726  0.725479  \n",
       "251  2.428065  3.617395  0.464452  0.251414  0.071827  0.217818  0.712988  \n",
       "\n",
       "[252 rows x 1000 columns]"
      ]
     },
     "execution_count": 16,
     "metadata": {},
     "output_type": "execute_result"
    }
   ],
   "source": [
    "simulate_mc(data, 252, 1000, 'log')"
   ]
  },
  {
   "cell_type": "markdown",
   "metadata": {},
   "source": [
    "Now, let's loop through all the stated securities and generate the visualizations and statistics that will help us understand the expected performance of a stock."
   ]
  },
  {
   "cell_type": "code",
   "execution_count": 17,
   "metadata": {},
   "outputs": [],
   "source": [
    "def monte_carlo(tickers, days_forecast, iterations, start_date = '2000-1-1', return_type = 'log', plotten=False):\n",
    "    data = import_stock_data(tickers, start=start_date)\n",
    "    inform = beta_sharpe(data, mark_ticker=\"^GSPC\", start=start_date)\n",
    "    simulatedDF = []\n",
    "    for t in range(len(tickers)):\n",
    "        y = simulate_mc(data.iloc[:,t], (days_forecast+1), iterations, return_type)\n",
    "        if plotten == True:\n",
    "            forplot = y.iloc[:,0:10]\n",
    "            forplot.plot(figsize=(15,4))\n",
    "        print(f\"Beta: {round(inform.iloc[t,inform.columns.get_loc('Beta')],2)}\")\n",
    "        print(f\"Sharpe: {round(inform.iloc[t,inform.columns.get_loc('Sharpe')],2)}\") \n",
    "        print(f\"CAPM Return: {round(100*inform.iloc[t,inform.columns.get_loc('CAPM')],2)}%\")\n",
    "        y['ticker'] = tickers[t]\n",
    "        cols = y.columns.tolist()\n",
    "        cols = cols[-1:] + cols[:-1]\n",
    "        y = y[cols]\n",
    "        simulatedDF.append(y)\n",
    "    simulatedDF = pd.concat(simulatedDF)\n",
    "    return simulatedDF"
   ]
  },
  {
   "cell_type": "code",
   "execution_count": 18,
   "metadata": {},
   "outputs": [
    {
     "name": "stdout",
     "output_type": "stream",
     "text": [
      "[*********************100%***********************]  1 of 1 completed\n",
      "[*********************100%***********************]  1 of 1 completed\n",
      "[*********************100%***********************]  1 of 1 completed\n"
     ]
    },
    {
     "name": "stderr",
     "output_type": "stream",
     "text": [
      "C:\\Users\\LAMSD\\my_app\\lib\\site-packages\\seaborn\\distributions.py:2619: FutureWarning: `distplot` is a deprecated function and will be removed in a future version. Please adapt your code to use either `displot` (a figure-level function with similar flexibility) or `histplot` (an axes-level function for histograms).\n",
      "  warnings.warn(msg, FutureWarning)\n",
      "C:\\Users\\LAMSD\\my_app\\lib\\site-packages\\seaborn\\distributions.py:2619: FutureWarning: `distplot` is a deprecated function and will be removed in a future version. Please adapt your code to use either `displot` (a figure-level function with similar flexibility) or `histplot` (an axes-level function for histograms).\n",
      "  warnings.warn(msg, FutureWarning)\n"
     ]
    },
    {
     "data": {
      "image/png": "[encoded data removed]",
      "text/plain": [
       "<Figure size 1008x288 with 2 Axes>"
      ]
     },
     "metadata": {
      "needs_background": "light"
     },
     "output_type": "display_data"
    },
    {
     "name": "stdout",
     "output_type": "stream",
     "text": [
      "GOOG\n",
      "Days: 252\n",
      "Expected Value: $151.38\n",
      "Return: 17.17%\n",
      "Probability of Breakeven: 0.6956\n",
      "Beta: 1.13\n",
      "Sharpe: 0.26\n",
      "CAPM Return: 9.97%\n"
     ]
    },
    {
     "name": "stderr",
     "output_type": "stream",
     "text": [
      "C:\\Users\\LAMSD\\my_app\\lib\\site-packages\\seaborn\\distributions.py:2619: FutureWarning: `distplot` is a deprecated function and will be removed in a future version. Please adapt your code to use either `displot` (a figure-level function with similar flexibility) or `histplot` (an axes-level function for histograms).\n",
      "  warnings.warn(msg, FutureWarning)\n",
      "C:\\Users\\LAMSD\\my_app\\lib\\site-packages\\seaborn\\distributions.py:2619: FutureWarning: `distplot` is a deprecated function and will be removed in a future version. Please adapt your code to use either `displot` (a figure-level function with similar flexibility) or `histplot` (an axes-level function for histograms).\n",
      "  warnings.warn(msg, FutureWarning)\n"
     ]
    },
    {
     "data": {
      "image/png": "[encoded data removed]",
      "text/plain": [
       "<Figure size 1008x288 with 2 Axes>"
      ]
     },
     "metadata": {
      "needs_background": "light"
     },
     "output_type": "display_data"
    },
    {
     "name": "stdout",
     "output_type": "stream",
     "text": [
      "AAPL\n",
      "Days: 252\n",
      "Expected Value: $230.09\n",
      "Return: 21.41%\n",
      "Probability of Breakeven: 0.7428\n",
      "Beta: 1.21\n",
      "Sharpe: 0.27\n",
      "CAPM Return: 10.45%\n"
     ]
    }
   ],
   "source": [
    "start = \"2015-1-1\"\n",
    "days_to_forecast= 252\n",
    "simulation_trials= 10000\n",
    "ret_sim_df = monte_carlo(['GOOG','AAPL'], days_forecast= days_to_forecast, iterations=simulation_trials,  start_date=start, plotten=False)"
   ]
  },
  {
   "cell_type": "code",
   "execution_count": null,
   "metadata": {},
   "outputs": [],
   "source": []
  }
 ],
 "metadata": {
  "kernelspec": {
   "display_name": "Python 3 (ipykernel)",
   "language": "python",
   "name": "python3"
  },
  "language_info": {
   "codemirror_mode": {
    "name": "ipython",
    "version": 3
   },
   "file_extension": ".py",
   "mimetype": "text/x-python",
   "name": "python",
   "nbconvert_exporter": "python",
   "pygments_lexer": "ipython3",
   "version": "3.8.10"
  }
 },
 "nbformat": 4,
 "nbformat_minor": 4
}
