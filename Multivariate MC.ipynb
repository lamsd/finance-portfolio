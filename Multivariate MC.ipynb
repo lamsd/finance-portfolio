{
 "cells": [
  {
   "cell_type": "code",
   "execution_count": 1,
   "metadata": {},
   "outputs": [],
   "source": [
    "import numpy as np\n",
    "import pandas as pd\n",
    "from pandas_datareader import data as pdr\n",
    "import matplotlib.pyplot as plt\n",
    "from scipy.stats import norm, gmean, cauchy, multivariate_normal\n",
    "import seaborn as sns\n",
    "# import plotly as py\n",
    "# import plotly.graph_objs as go\n",
    "# import cufflinks\n",
    "# cufflinks.go_offline(connected=True)\n",
    "#init_notebook_mode(connected=True)\n",
    "import yfinance as yfin\n",
    "\n",
    "yfin.pdr_override()\n",
    "%matplotlib inline"
   ]
  },
  {
   "cell_type": "code",
   "execution_count": 2,
   "metadata": {},
   "outputs": [],
   "source": [
    "def import_stock_data(tickers, start = '2010-1-1'):\n",
    "    data = pd.DataFrame()\n",
    "    if len(tickers) == 1:\n",
    "        data[tickers[0]] = pdr.get_data_yahoo(tickers[0], start = start)['Adj Close']\n",
    "        data = pd.DataFrame(data)\n",
    "    else:\n",
    "        for t in tickers:\n",
    "            data[t] = pdr.get_data_yahoo(t, start = start)['Adj Close']\n",
    "    return(data)"
   ]
  },
  {
   "cell_type": "code",
   "execution_count": 3,
   "metadata": {},
   "outputs": [
    {
     "name": "stdout",
     "output_type": "stream",
     "text": [
      "[*********************100%***********************]  1 of 1 completed\n",
      "[*********************100%***********************]  1 of 1 completed\n"
     ]
    }
   ],
   "source": [
    "data = import_stock_data([\"MSFT\",\"BAM\"])"
   ]
  },
  {
   "cell_type": "code",
   "execution_count": 4,
   "metadata": {},
   "outputs": [
    {
     "data": {
      "text/html": [
       "<div>\n",
       "<style scoped>\n",
       "    .dataframe tbody tr th:only-of-type {\n",
       "        vertical-align: middle;\n",
       "    }\n",
       "\n",
       "    .dataframe tbody tr th {\n",
       "        vertical-align: top;\n",
       "    }\n",
       "\n",
       "    .dataframe thead th {\n",
       "        text-align: right;\n",
       "    }\n",
       "</style>\n",
       "<table border=\"1\" class=\"dataframe\">\n",
       "  <thead>\n",
       "    <tr style=\"text-align: right;\">\n",
       "      <th></th>\n",
       "      <th>MSFT</th>\n",
       "      <th>BAM</th>\n",
       "    </tr>\n",
       "    <tr>\n",
       "      <th>Date</th>\n",
       "      <th></th>\n",
       "      <th></th>\n",
       "    </tr>\n",
       "  </thead>\n",
       "  <tbody>\n",
       "    <tr>\n",
       "      <th>2023-05-26</th>\n",
       "      <td>332.890015</td>\n",
       "      <td>30.750000</td>\n",
       "    </tr>\n",
       "    <tr>\n",
       "      <th>2023-05-30</th>\n",
       "      <td>331.209991</td>\n",
       "      <td>30.809999</td>\n",
       "    </tr>\n",
       "    <tr>\n",
       "      <th>2023-05-31</th>\n",
       "      <td>328.390015</td>\n",
       "      <td>30.520000</td>\n",
       "    </tr>\n",
       "    <tr>\n",
       "      <th>2023-06-01</th>\n",
       "      <td>332.579987</td>\n",
       "      <td>30.799999</td>\n",
       "    </tr>\n",
       "    <tr>\n",
       "      <th>2023-06-02</th>\n",
       "      <td>334.749908</td>\n",
       "      <td>31.459999</td>\n",
       "    </tr>\n",
       "  </tbody>\n",
       "</table>\n",
       "</div>"
      ],
      "text/plain": [
       "                  MSFT        BAM\n",
       "Date                             \n",
       "2023-05-26  332.890015  30.750000\n",
       "2023-05-30  331.209991  30.809999\n",
       "2023-05-31  328.390015  30.520000\n",
       "2023-06-01  332.579987  30.799999\n",
       "2023-06-02  334.749908  31.459999"
      ]
     },
     "execution_count": 4,
     "metadata": {},
     "output_type": "execute_result"
    }
   ],
   "source": [
    "data.tail()"
   ]
  },
  {
   "cell_type": "code",
   "execution_count": 5,
   "metadata": {},
   "outputs": [],
   "source": [
    "def log_returns(data):\n",
    "    return (np.log(1+data.pct_change()))"
   ]
  },
  {
   "cell_type": "code",
   "execution_count": 6,
   "metadata": {},
   "outputs": [],
   "source": [
    "log_return = log_returns(data)"
   ]
  },
  {
   "cell_type": "code",
   "execution_count": 7,
   "metadata": {},
   "outputs": [],
   "source": [
    "def drift_calc(data, return_type='log'):\n",
    "    if return_type=='log':\n",
    "        lr = log_returns(data)\n",
    "    elif return_type=='simple':\n",
    "        lr = simple_returns(data)\n",
    "    u = lr.mean()\n",
    "    var = lr.var()\n",
    "    drift = u-(0.5*var)\n",
    "    try:\n",
    "        return drift.values\n",
    "    except:\n",
    "        return drift"
   ]
  },
  {
   "cell_type": "code",
   "execution_count": 8,
   "metadata": {},
   "outputs": [
    {
     "data": {
      "text/plain": [
       "array([ 0.00065081, -0.00018184])"
      ]
     },
     "execution_count": 8,
     "metadata": {},
     "output_type": "execute_result"
    }
   ],
   "source": [
    "drif = drift_calc(data)\n",
    "drif"
   ]
  },
  {
   "cell_type": "code",
   "execution_count": 9,
   "metadata": {},
   "outputs": [
    {
     "data": {
      "text/html": [
       "<div>\n",
       "<style scoped>\n",
       "    .dataframe tbody tr th:only-of-type {\n",
       "        vertical-align: middle;\n",
       "    }\n",
       "\n",
       "    .dataframe tbody tr th {\n",
       "        vertical-align: top;\n",
       "    }\n",
       "\n",
       "    .dataframe thead th {\n",
       "        text-align: right;\n",
       "    }\n",
       "</style>\n",
       "<table border=\"1\" class=\"dataframe\">\n",
       "  <thead>\n",
       "    <tr style=\"text-align: right;\">\n",
       "      <th></th>\n",
       "      <th>MSFT</th>\n",
       "      <th>BAM</th>\n",
       "    </tr>\n",
       "  </thead>\n",
       "  <tbody>\n",
       "    <tr>\n",
       "      <th>MSFT</th>\n",
       "      <td>0.000270</td>\n",
       "      <td>0.000083</td>\n",
       "    </tr>\n",
       "    <tr>\n",
       "      <th>BAM</th>\n",
       "      <td>0.000083</td>\n",
       "      <td>0.000409</td>\n",
       "    </tr>\n",
       "  </tbody>\n",
       "</table>\n",
       "</div>"
      ],
      "text/plain": [
       "          MSFT       BAM\n",
       "MSFT  0.000270  0.000083\n",
       "BAM   0.000083  0.000409"
      ]
     },
     "execution_count": 9,
     "metadata": {},
     "output_type": "execute_result"
    }
   ],
   "source": [
    "covi = log_return.cov()\n",
    "covi"
   ]
  },
  {
   "cell_type": "code",
   "execution_count": 10,
   "metadata": {},
   "outputs": [
    {
     "data": {
      "text/plain": [
       "array([[0.01643896, 0.        ],\n",
       "       [0.00505631, 0.01956961]])"
      ]
     },
     "execution_count": 10,
     "metadata": {},
     "output_type": "execute_result"
    }
   ],
   "source": [
    "L = np.linalg.cholesky(covi)\n",
    "L"
   ]
  },
  {
   "cell_type": "code",
   "execution_count": 11,
   "metadata": {},
   "outputs": [
    {
     "data": {
      "text/plain": [
       "array([[ 1.55707112, -0.14980985],\n",
       "       [ 0.65538931,  0.7351811 ]])"
      ]
     },
     "execution_count": 11,
     "metadata": {},
     "output_type": "execute_result"
    }
   ],
   "source": [
    "randi =norm.ppf(np.random.rand(2,2))\n",
    "randi"
   ]
  },
  {
   "cell_type": "code",
   "execution_count": 12,
   "metadata": {},
   "outputs": [],
   "source": [
    "V = L.dot(randi)"
   ]
  },
  {
   "cell_type": "code",
   "execution_count": 13,
   "metadata": {},
   "outputs": [
    {
     "data": {
      "text/plain": [
       "array([0.02051691, 0.01344789])"
      ]
     },
     "execution_count": 13,
     "metadata": {},
     "output_type": "execute_result"
    }
   ],
   "source": [
    "V[0]+drif[0]\n",
    "V[1]+drif[1]"
   ]
  },
  {
   "cell_type": "code",
   "execution_count": 14,
   "metadata": {},
   "outputs": [],
   "source": [
    "def daily_returns(data, days, iterations, return_type='log'):\n",
    "    ft = drift_calc(data, return_type)\n",
    "    if return_type == 'log':\n",
    "        try:\n",
    "            stv = log_returns(data).std().values\n",
    "        except:\n",
    "            stv = log_returns(data).std()\n",
    "    elif return_type=='simple':\n",
    "        try:\n",
    "            stv = simple_returns(data).std().values\n",
    "        except:\n",
    "            stv = simple_returns(data).std()    \n",
    "    covall = log_return.cov()\n",
    "    chol = np.linalg.cholesky(covall)\n",
    "    numstocks = len(data.columns)\n",
    "    \n",
    "    randim = norm.ppf(np.random.rand(days,numstocks,iterations))\n",
    "    V = chol.dot(randim)\n",
    "    \n",
    "    stocks = []\n",
    "    for s in range(numstocks):\n",
    "        dr = np.exp(ft[s] + stv[s] * V[s])\n",
    "        stocks.append(dr)\n",
    "    return stocks"
   ]
  },
  {
   "cell_type": "code",
   "execution_count": 15,
   "metadata": {},
   "outputs": [
    {
     "data": {
      "text/plain": [
       "[array([[1.00046001, 1.00098683, 1.00083976, ..., 1.00045635, 1.00093787,\n",
       "         1.00042923],\n",
       "        [1.00068454, 1.0007221 , 1.00038582, ..., 1.00089953, 1.00007322,\n",
       "         1.00072407],\n",
       "        [1.00083475, 1.00077407, 1.00038329, ..., 1.00068408, 1.00062902,\n",
       "         1.00075765],\n",
       "        ...,\n",
       "        [1.00079632, 1.00056087, 1.00058322, ..., 1.00044499, 1.00047406,\n",
       "         1.00067253],\n",
       "        [1.00078518, 1.00070771, 1.00079226, ..., 1.00056336, 1.00041582,\n",
       "         1.00037438],\n",
       "        [1.00093146, 1.00050906, 1.0007427 , ..., 1.00099091, 1.0010703 ,\n",
       "         1.00040081]]),\n",
       " array([[0.99989397, 0.99995006, 0.99934749, ..., 0.99963725, 0.9994261 ,\n",
       "         0.99990124],\n",
       "        [0.99983706, 1.00069189, 0.99929193, ..., 0.99892772, 0.99952926,\n",
       "         0.9987723 ],\n",
       "        [1.0001405 , 0.99961661, 0.99954676, ..., 0.99956009, 0.99893021,\n",
       "         0.99996424],\n",
       "        ...,\n",
       "        [0.99977626, 0.99940174, 0.99886443, ..., 0.99944258, 0.99920661,\n",
       "         1.00007651],\n",
       "        [1.0000461 , 0.99933868, 1.00015878, ..., 1.00009021, 1.00046812,\n",
       "         0.99984244],\n",
       "        [0.99904165, 0.9999542 , 1.00052514, ..., 0.99965956, 0.99978019,\n",
       "         0.99875875]])]"
      ]
     },
     "execution_count": 15,
     "metadata": {},
     "output_type": "execute_result"
    }
   ],
   "source": [
    "xxx = daily_returns(data, days = 250, iterations = 10)\n",
    "xxx"
   ]
  },
  {
   "cell_type": "code",
   "execution_count": 16,
   "metadata": {},
   "outputs": [],
   "source": [
    "def daily_returns(data, days, iterations, return_type='log'):\n",
    "    ft = drift_calc(data, return_type)\n",
    "    if return_type == 'log':\n",
    "        try:\n",
    "            stv = log_returns(data).std().values\n",
    "        except:\n",
    "            stv = log_returns(data).std()\n",
    "    elif return_type=='simple':\n",
    "        try:\n",
    "            stv = simple_returns(data).std().values\n",
    "        except:\n",
    "            stv = simple_returns(data).std()   \n",
    "    \n",
    "    numstocks = len(data.columns)\n",
    "    \n",
    "    covall = log_return.cov()\n",
    "    chol = np.linalg.cholesky(covall)\n",
    "    \n",
    "    # totals = []\n",
    "    # for d in range(days):\n",
    "    #     uncorr_x = np.random.normal(0,1,(numstocks,iterations))\n",
    "    #     corr_x = np.dot(chol,uncorr_x)\n",
    "    #     df = pd.DataFrame(corr_x[0]).T\n",
    "    #     totals.append(df)\n",
    "            #print(corr_x[0])\n",
    "    simstock = np.zeros_like(5)\n",
    "    for d in range(days):\n",
    "        uncorr_x = np.random.normal(0,1,(2,5))\n",
    "        corr_x = np.dot(chol,uncorr_x)\n",
    "        row = (corr_x[0]).transpose()\n",
    "        simstock = simstock+row\n",
    "        # print(row)\n",
    "    # return simstock\n",
    "    randim = norm.ppf(np.random.rand(days,numstocks,iterations))\n",
    "    V = chol.dot(randim)\n",
    "    \n",
    "    stocks = []\n",
    "    for s in range(numstocks):\n",
    "        dr = np.exp(ft[s] + stv[s] * V[s])\n",
    "        stocks.append(dr)\n",
    "    return  stocks\n",
    "#     randim = norm.ppf(np.random.rand(days,numstocks,iterations))\n",
    "#     V = chol.dot(randim)\n",
    "    \n",
    "#     stocks = []\n",
    "#     for s in range(numstocks):\n",
    "#         dr = np.exp(ft[s] + stv[s] * V[s])\n",
    "#         stocks.append(dr)\n",
    "    # return pd.DataFrame(totals)"
   ]
  },
  {
   "cell_type": "code",
   "execution_count": 17,
   "metadata": {},
   "outputs": [],
   "source": [
    "xxx = daily_returns(data, days = 250, iterations = 10)\n",
    "# pd.DataFrame(xxx)"
   ]
  },
  {
   "cell_type": "code",
   "execution_count": 18,
   "metadata": {},
   "outputs": [],
   "source": [
    "stock1 = xxx[0]\n",
    "stock2 = xxx[1]"
   ]
  },
  {
   "cell_type": "code",
   "execution_count": 19,
   "metadata": {},
   "outputs": [
    {
     "data": {
      "text/plain": [
       "array([[1.00082317, 1.00111623, 1.00073746, ..., 1.00107113, 1.00071594,\n",
       "        1.000114  ],\n",
       "       [1.00069514, 1.00026837, 1.00076103, ..., 1.00020408, 1.00066799,\n",
       "        1.00090647],\n",
       "       [1.0005982 , 1.00080595, 1.00065423, ..., 1.00108901, 1.00110698,\n",
       "        1.0004095 ],\n",
       "       ...,\n",
       "       [1.00087048, 1.00113014, 1.00067517, ..., 1.0007497 , 1.00080756,\n",
       "        1.00102884],\n",
       "       [1.00052665, 1.00042285, 1.00037913, ..., 1.00071785, 1.00062018,\n",
       "        1.00130873],\n",
       "       [1.00081025, 1.00046123, 1.00041245, ..., 1.00085816, 1.00031258,\n",
       "        1.0001162 ]])"
      ]
     },
     "execution_count": 19,
     "metadata": {},
     "output_type": "execute_result"
    }
   ],
   "source": [
    "stock1"
   ]
  },
  {
   "cell_type": "code",
   "execution_count": 20,
   "metadata": {},
   "outputs": [],
   "source": [
    "price_list1 = np.zeros_like(stock1)\n",
    "price_list2 = np.zeros_like(stock2)"
   ]
  },
  {
   "cell_type": "code",
   "execution_count": 21,
   "metadata": {},
   "outputs": [],
   "source": [
    "price_list1[0] = data.iloc[-1,0]\n",
    "price_list2[0] = data.iloc[-1,1]"
   ]
  },
  {
   "cell_type": "code",
   "execution_count": 22,
   "metadata": {},
   "outputs": [],
   "source": [
    "for t in range(1,250):\n",
    "    price_list1[t] = price_list1[t-1]*stock1[t]\n",
    "    price_list2[t] = price_list2[t-1]*stock2[t]"
   ]
  },
  {
   "cell_type": "code",
   "execution_count": 23,
   "metadata": {},
   "outputs": [
    {
     "data": {
      "text/plain": [
       "<AxesSubplot:>"
      ]
     },
     "execution_count": 23,
     "metadata": {},
     "output_type": "execute_result"
    },
    {
     "data": {
      "image/png": "[encoded data removed]",
      "text/plain": [
       "<Figure size 432x288 with 1 Axes>"
      ]
     },
     "metadata": {
      "needs_background": "light"
     },
     "output_type": "display_data"
    }
   ],
   "source": [
    "pd.DataFrame(price_list1).plot()"
   ]
  },
  {
   "cell_type": "code",
   "execution_count": 24,
   "metadata": {},
   "outputs": [
    {
     "data": {
      "text/plain": [
       "array([0.01643896, 0.02021227])"
      ]
     },
     "execution_count": 24,
     "metadata": {},
     "output_type": "execute_result"
    }
   ],
   "source": [
    "stv = log_returns(data).std()\n",
    "stv.values"
   ]
  },
  {
   "cell_type": "code",
   "execution_count": 25,
   "metadata": {},
   "outputs": [
    {
     "data": {
      "text/plain": [
       "[<matplotlib.lines.Line2D at 0x13e0806fd60>]"
      ]
     },
     "execution_count": 25,
     "metadata": {},
     "output_type": "execute_result"
    },
    {
     "data": {
      "image/png": "[encoded data removed]",
      "text/plain": [
       "<Figure size 432x288 with 1 Axes>"
      ]
     },
     "metadata": {
      "needs_background": "light"
     },
     "output_type": "display_data"
    }
   ],
   "source": [
    "plt.plot(price_list1[0], label = 'stock A', linewidth = 2)\n",
    "plt.plot(price_list2[0], label = 'stock B', linewidth = 2)"
   ]
  },
  {
   "cell_type": "code",
   "execution_count": 26,
   "metadata": {},
   "outputs": [
    {
     "data": {
      "text/plain": [
       "array([[ 0.00768612,  0.02703674],\n",
       "       [ 0.00329802, -0.00967265],\n",
       "       [-0.02255388, -0.02298531],\n",
       "       [ 0.00886242, -0.04029271],\n",
       "       [ 0.01943872,  0.0190393 ],\n",
       "       [ 0.01221647, -0.01120713],\n",
       "       [ 0.01478134, -0.01701865],\n",
       "       [-0.0217101 , -0.02131688],\n",
       "       [-0.01016738, -0.00988724],\n",
       "       [-0.0204849 , -0.00828122],\n",
       "       [ 0.01768906,  0.0189116 ],\n",
       "       [ 0.01129909,  0.02132089],\n",
       "       [-0.01961936,  0.02109863],\n",
       "       [-0.02677214, -0.00676592],\n",
       "       [ 0.02081115, -0.01596941],\n",
       "       [-0.02620391, -0.00990758],\n",
       "       [ 0.01594588, -0.01704012],\n",
       "       [ 0.03508048,  0.0031943 ],\n",
       "       [ 0.01464812,  0.01087545],\n",
       "       [-0.02266855, -0.01066961]])"
      ]
     },
     "execution_count": 26,
     "metadata": {},
     "output_type": "execute_result"
    }
   ],
   "source": [
    "np.random.multivariate_normal((log_return.mean()),covi,20)"
   ]
  },
  {
   "cell_type": "code",
   "execution_count": null,
   "metadata": {},
   "outputs": [],
   "source": []
  }
 ],
 "metadata": {
  "kernelspec": {
   "display_name": "Python 3 (ipykernel)",
   "language": "python",
   "name": "python3"
  },
  "language_info": {
   "codemirror_mode": {
    "name": "ipython",
    "version": 3
   },
   "file_extension": ".py",
   "mimetype": "text/x-python",
   "name": "python",
   "nbconvert_exporter": "python",
   "pygments_lexer": "ipython3",
   "version": "3.8.10"
  }
 },
 "nbformat": 4,
 "nbformat_minor": 4
}
